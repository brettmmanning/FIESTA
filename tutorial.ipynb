{
 "cells": [
  {
   "cell_type": "markdown",
   "metadata": {},
   "source": [
    "# FIESTA2017 Jupyter Notebook Tutorial"
   ]
  },
  {
   "cell_type": "markdown",
   "metadata": {},
   "source": [
    "FIESTA2017, <a href=\"http://t2.lanl.gov/fiesta2017\" target=\"_new\">t2.lanl.gov/fiesta2017</a> <br />\n",
    "Sep. 17-22, 2017 <br />\n",
    "Santa Fe, NM, USA"
   ]
  },
  {
   "cell_type": "markdown",
   "metadata": {},
   "source": [
    "Thank you for agreeing to lead a practice session at FIESTA2017, we are excited that you have chosen to help train the next generation of scientists studying nuclear fission.  We have decided to use Python based Jupyter notebooks for all of the practice sessions at FIESTA17.  This document is meant to serve as a tutorial for creating your own notebook and will demonstrate some of the powerful features of this format and Python in general.  Your notebook will not only be used for the upcoming school, but will also be posted on the FIESTA2017 website where it will serve as an interactive document for young students and postdocs in the field.  Finally, we will provide feedback on the content of your exercises, and we will also be available to help develop your notebook. "
   ]
  },
  {
   "cell_type": "markdown",
   "metadata": {},
   "source": [
    "FIESTA2017 Local Organizing Committee <br />\n",
    "Patrick Talou (chair) <br />\n",
    "Fredrik Tovesson <br />\n",
    "Morgan C. White <br />\n",
    "Dana L. Duke <br />\n",
    "Brett Manning <br />\n",
    "Denise Neudecker <br />\n",
    "Gencho Rusev <br />\n",
    "Ionel Stetcu "
   ]
  },
  {
   "cell_type": "markdown",
   "metadata": {},
   "source": [
    "## Table of Contents"
   ]
  },
  {
   "cell_type": "markdown",
   "metadata": {},
   "source": [
    "<ul>\n",
    "<li><a href=\"#WhyJupyter\">Why Python Based Jupyter Notebooks?</a></li>\n",
    "<li><a href=\"#JupyterBasics\">Jupyter Basics</a></li>\n",
    "<li><a href=\"#PythonBasics\">Python Basics</a></li>\n",
    "<li><a href=\"#AddInfo\">Additional Information</a></li>\n",
    "</ul>"
   ]
  },
  {
   "cell_type": "markdown",
   "metadata": {},
   "source": [
    "<a id=\"WhyJupyter\"></a>\n",
    "\n",
    "# Why Python Based Jupyter Notebooks?"
   ]
  },
  {
   "cell_type": "markdown",
   "metadata": {},
   "source": [
    "### History of Jupyter\n",
    "<a href=\"http://jupyter.org/\">Jupyter</a> notebooks grew out of the <a href=\"https://ipython.org/\">IPython</a> project: a Python based interactive programming environment.  The original IPython notebook was first released in 2011 and is an excellent example of literate programming.  This approach to programming allows human-friendly text to coexist with code blocks. It is ideal for demonstration and teaching objectives and was even featured in <a href=\"http://www.nature.com/news/interactive-notebooks-sharing-the-code-1.16261\">Nature</a> for its applications in research.  There a numberous examples of literate programming software packages such as Mathematica and Matlab, but IPython notebooks represented one of the first open-source options.  </br >\n",
    "\n",
    "IPython notebooks exploded in popularity in 2013 when the IPython team won a Sloan Foundation Grant to further develop this technology.  The team expanded the concept to include additional programming languages and was therefore renamed Jupyter; an acronym representing the supported languages of Julia, Python and R.  The project has continued to grow and increase the number of supported languages.  </br >\n",
    "\n",
    "### What is a Jupyter Notebook?\n",
    "A Jupyter notebook is a document, an environment, and a web app all at once.  More to the point, a Jupyter notebook is a local desktop application where the user interface (UI) lives in a web browser.  There are several advantages to these notebooks that make them a good choice for instructional settings such as FIESTA2017.  Jupyter notebooks are easy to develop relative to other web UI toolkits, as only some basic HTML and JavaScript is required.   Perhaps more importantly for an educationcal setting, the server can be run remotely, so the user does not even need to have Python installed locally. </br >\n",
    "\n",
    "Jupyter notebooks are viewed as a series of “cells” containing executable code or markdown (HTML markup language) for human-friendly text. They offer LaTeX support for mathematical equations, and easily allow for hyperlinks and embedded images.  These notebooks are saved in the .ipynb format and are offer many features common to Interactive Development Environments (IDEs) such as code completion.  The notebook can be easily shared with users to create a reproducible enviroment for instruction and coding.</br >"
   ]
  },
  {
   "cell_type": "markdown",
   "metadata": {},
   "source": [
    "<a id=\"JupyterBasics\"></a>\n",
    "# Jupyter Basics"
   ]
  },
  {
   "cell_type": "markdown",
   "metadata": {},
   "source": [
    "This section will provide an introduction for creating a new notebook as well as managing and executing the two cell types: markdown and code.  Further information will be provided for including features such as LaTeX, hyperlinks, and images. "
   ]
  },
  {
   "cell_type": "markdown",
   "metadata": {},
   "source": [
    "### Getting Started: Creating, Managing, and Executing a Jupyter Notebook\n",
    "Before you can get started you must have <a href=\"https://www.python.org/downloads/\">Python</a> and <a href=\"http://jupyter.readthedocs.io/en/latest/install.html\">Jupyter</a> installed on your computer.  <br />\n",
    "\n",
    "Now that you are ready to create your first Jupyter notebook you have two options: work from an existing template such as this one or create a new document.  To get started type <i>jupyter notebook</i> in a shell prompt and the web browser will open similar to the image below.    <br/ >\n",
    "\n",
    "<img src=\"start_jupyter.png\">\n",
    "\n",
    "To create a new Python notebook, click on the <i>New</i> button on the right and select <i>Python 2</i>.\n",
    "\n",
    "<img src=\"new_document.png\">\n",
    "\n",
    "You can also open an existing notebook by double-clicking on one of the file.  Recall that Jupyter notebooks have the file extension <i>.ipynb</i>. Once you open a new notebook the web browser should look like the image below.  <br />\n",
    "\n",
    "<img src=\"new_notebook.png\">\n",
    "\n",
    "Note that there is already a cell present in the notebook.  The cell is currently a <i>code</i> cell as indicated by the drop down menu in the tool bar.  You can click on this menu to change the cell type.  \n",
    "\n",
    "<img src=\"change_cell.png\">\n",
    "\n",
    "Or, you can click on the <i>Cell</i> menu and navigate to <i>Cell Type</i>.\n",
    "\n",
    "<img src=\"change_cell_2.png\">\n",
    "\n",
    "For this example I set the cell type to <i>Markdown</i> and typed <i>My first Jupyter notebook</i>. \n",
    "\n",
    "<img src=\"cell_mark.png\">\n",
    "\n",
    "Navigating to the <i>Cell</i> menu we see various options for running an individual cell or running all cells.  There are also <a href=\"http://maxmelnick.com/2016/04/19/python-beginner-tips-and-tricks.html\">shortcuts</a> for executing cells: run cell (<i>ctrl + enter</i>), run cell and then select the cell below (<i>shift + enter</i>), and run cell and then enter a new cell below (<i>alt + enter</i>).  \n",
    "\n",
    "<img src=\"cell_execute.png\">\n",
    "\n",
    "For the moment we will run the current cell by typing <i>ctrl + enter</i>.  \n",
    "\n",
    "<img src=\"cell_executed.png\">\n",
    "\n",
    "The markdown cell now displays as rich-text and there is no additional cell since we did not choose this option.  A new cell can be inserted from the <i>Insert</i> menu.  Selecting <i>Insert Cell Below</i>.  A new <i>code</i> cell is inserted.\n",
    "\n",
    "<img src=\"cell_executed.png\">\n",
    "\n",
    "Now we can use the <i>code</i> cell as a calculator by typing <i>3+1</i> in the current cell.  \n",
    "\n",
    "<img src=\"cell_calculator.png\">\n",
    "\n",
    "To run this cell we will typing <i>alt + enter</i> to demonstrate how to run the present cell and insert a new cell below.  The result of the operation will be printed immediately below the current cell and before the insertion of the new cell.\n",
    "\n",
    "<img src=\"cell_code_executed.png\">\n",
    "\n",
    "It should be noted that evertime you run a cell the notebook is saved.  Additionally, the notebook will autosave every 180 seconds.  It is possible to easily <a href=\"https://www.webucator.com/blog/2016/03/change-default-autosave-interval-in-ipython-notebook/\">modify</a> this interval if desired. You can also manually save the notebook by using the save button in the toolbar.\n",
    "\n",
    "Now you have seen the basics for opening a notebook, as well as inserting and executing cells.  The remainder of this section will provide some additional information specific to the different cell types.\n",
    "\n",
    "\n",
    "### Markdown Cells\n",
    "In addition to the plain text we have already discussed, there are a number of useful features that can be added to the a markdown cell.  We will explore a few of these options below. <br />\n",
    "\n",
    "Headers are useful when developing your notebook.  Using the <i>#</i> symbol before text in a markdown cell provides a quick method for creating standard headers.  Adding additional <i>#</i> symbols decreases the header size as shown below.\n",
    "\n",
    "<img src=\"headers.png\">\n",
    "\n",
    "Latex can be added to markdown cells by adding <i>$$</i> before and after the desired text, such as the example below.\n",
    "\n",
    "<img src=\"latex.png\">\n",
    "\n",
    "After running the cell the equation is seamless merged into the notebook.\n",
    "\n",
    "<img src=\"latex_run.png\">\n",
    "\n",
    "There are many HTML5 based features that can be used in markdown cells.  For example, you can modify text, add figures, and insert hyperlinks.  \n",
    "\n",
    "To create <i>italic</i> text type:\n",
    "$$ \\textrm{<i>italic</i>} $$\n",
    "\n",
    "To add an image named figure.png (in your local directory):\n",
    "$$ \\textrm{<img src =\"figure.png\">} $$\n",
    "\n",
    "To add hyperlinks to urls:\n",
    "$$ \\textrm{<a href=\"http://jupyter.org/\">Jupyter</a>} $$\n",
    "\n",
    "There are many other HTML5 features you can explore, but these should get you started.  The best way to learn is to start developing your notebook and test different features that interest you.\n",
    "\n",
    "\n",
    "### Code Cells\n",
    "A code cell behaves exactly like an ipython shell, allowing you to run Python code inline. This also provides tab completion while developing code in your notebook.  As a simple example, you can define and add variables.     \n",
    "\n",
    "<img src =\"code_calc.png\">\n",
    "\n",
    "You can do something more complex such as loading packages to create nice figures.\n",
    "\n",
    "<img src =\"mark_plot.png\">\n",
    "\n",
    "The next section will provide a brief tutorial for writing Python.  Additionally, you can find more <a href=\"https://www.python.org/\">information</a> and <a href=\"https://www.datacamp.com/courses/intro-to-python-for-data-science\">tutorials</a> online that will go into greater detail.\n",
    "\n"
   ]
  },
  {
   "cell_type": "markdown",
   "metadata": {},
   "source": [
    "<a id=\"PythonBasics\"></a>\n",
    "# Python Basics"
   ]
  },
  {
   "cell_type": "markdown",
   "metadata": {},
   "source": [
    "This section will provide a brief introduction to Python for those that are not familar with the language.  The following section provides links for additional information if needed. </br >\n",
    "\n",
    "### Data Structures\n",
    "\n",
    "### Packages\n",
    "\n",
    "#### Numpy\n",
    "\n",
    "#### Scipy\n",
    "\n",
    "#### Matplotlib\n",
    "\n",
    "#### PyROOT and rootpy (Python based Root)\n",
    "\n",
    "\n"
   ]
  },
  {
   "cell_type": "markdown",
   "metadata": {},
   "source": [
    "<a id=\"AddInfo\"></a>\n",
    "# Additional Information"
   ]
  },
  {
   "cell_type": "markdown",
   "metadata": {},
   "source": [
    "<ul>\n",
    "<li><a href=\"http://jupyter.org/\">Jupyter</a>: interactive Python notebooks</li>\n",
    "<li><a href=\"http://maxmelnick.com/2016/04/19/python-beginner-tips-and-tricks.html\">Jupyter Shortcuts</a>: tips and tricks for Jupyter notebooks</li>\n",
    "<li><a href=\"https://www.dataquest.io/blog/jupyter-notebook-tips-tricks-shortcuts/\">Advanced Jupyter Shortcuts</a>: advanced tips and tricks for Jupyter notebooks</li>\n",
    "<li> <a href=\"https://www.datacamp.com/courses/intro-to-python-for-data-science\">Python</a>: python documention</li>\n",
    "<li><a href=\"http://www.ipython.org\">IPython</a>: interactive computing with Python</li>\n",
    "<li><a href=\"http://www.numpy.org\">NumPy</a>: numerical tools</li>\n",
    "<li><a href=\"http://www.scipy.org\">SciPy</a>: scientific tools</li>\n",
    "<li><a href=\"http://www.matplotlib.org\">Matplotlib</a>: plotting library</li>\n",
    "<li><a href=\"https://www.datacamp.com/courses/intro-to-python-for-data-science\">Python Introduction</a>: introduction to Python on Data Camp</li>\n",
    "<li><a href=\"https://www.datacamp.com/community/tutorials/tutorial-jupyter-notebook\">Jupyter Tutorial</a>: tutorial on Data Camp</li>\n",
    "<li><a href=\"https://plot.ly/python/ipython-notebook-tutorial/\">Jupyter Tutorial</a>: tutorial on Plotly</li>\n",
    "</ul>"
   ]
  }
 ],
 "metadata": {
  "kernelspec": {
   "display_name": "Python 2",
   "language": "python",
   "name": "python2"
  },
  "language_info": {
   "codemirror_mode": {
    "name": "ipython",
    "version": 2
   },
   "file_extension": ".py",
   "mimetype": "text/x-python",
   "name": "python",
   "nbconvert_exporter": "python",
   "pygments_lexer": "ipython2",
   "version": "2.7.11"
  }
 },
 "nbformat": 4,
 "nbformat_minor": 0
}
