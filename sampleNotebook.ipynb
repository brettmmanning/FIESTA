{
 "cells": [
  {
   "cell_type": "markdown",
   "metadata": {},
   "source": [
    "# Template Jupyter Python Notebook for FIESTA2017"
   ]
  },
  {
   "cell_type": "markdown",
   "metadata": {},
   "source": [
    "FIESTA2017, <a href=\"http://t2.lanl.gov/fiesta2017\" target=\"_new\">t2.lanl.gov/fiesta2017</a> <br />\n",
    "Sep. 17-22, 2017 <br />\n",
    "Santa Fe, NM, USA"
   ]
  },
  {
   "cell_type": "markdown",
   "metadata": {},
   "source": [
    "<a id=\"Abstract\"></a> -- Invisible anchor here\n",
    "### Abstract"
   ]
  },
  {
   "cell_type": "markdown",
   "metadata": {},
   "source": [
    "# Welcome to FIESTA17!"
   ]
  },
  {
   "cell_type": "markdown",
   "metadata": {},
   "source": [
    "<strong><i>The abstract for this notebook can be added here.</i></strong>\n",
    "\n",
    "<p>In this mini-workshop, we will work on a very practical example of a modern nuclear data evaluation. In recent years, important efforts have been devoted to the evaluation of the Prompt Fission Neutron Spectrum (PFNS) and Prompt Fission Neutron Multiplicity (PFNM) for important actinides and for incident neutron energies from thermal up to 20 MeV. After briefly reviewing basic concepts on the physics of prompt fission neutrons, we will perform an evaluation of the PFNS in the neutron-induced fission reaction on Pu-239.</p>\n",
    "\n",
    "<p>We will make use of modern evaluation codes, and use the framework provided by IPython Notebooks to deliver this course. Hands-on, step-by-step instructions will be provided to perform a complete evaluation,  including how to:</p>\n",
    "\n",
    "<ul>\n",
    "    <li>Retrieve experimental data from the Nuclear Data Center and IAEA servers</li>\n",
    "    <li>Retrieve evaluated files from ENDF libraries</li>\n",
    "    <li>Analyze differential experimental data and old publications</li>\n",
    "    <li>How to deal with discrepant data sets</li>\n",
    "    <li>Evaluate a covariance matrix</li>\n",
    "    <li>Run a modern nuclear reaction code (e.g., CoH, TALYS, EMPIRE)</li>\n",
    "    <li>Use Bayesian statistical inference tools</li>\n",
    "    <li>Produce results in ENDF and GND (XML) formats</li>\n",
    "</ul>\n",
    "    \n",
    "<p>Because of time constraints, for each item, we will work on one specific example, while more complete files and documentations will be provided separately.</p>\n",
    "\n",
    "<p>During this course, we will introduce notions pertaining to: nuclear reaction mechanisms, statistical techniques, Bayesian inference, and XML format. A basic knowledge in these domains would be useful, but is not required. Some notions of the Python programming language would also be useful, but again, not required.</p>"
   ]
  },
  {
   "cell_type": "markdown",
   "metadata": {},
   "source": [
    "<a id=\"SchoolLinks\"></a>\n",
    "### School Lecture Slides & Notes"
   ]
  },
  {
   "cell_type": "markdown",
   "metadata": {},
   "source": [
    "Links here.\n",
    "<a href=\"\" target=\"_new\">School lecture</"
   ]
  },
  {
   "cell_type": "markdown",
   "metadata": {},
   "source": [
    "### Table of Contents"
   ]
  },
  {
   "cell_type": "markdown",
   "metadata": {},
   "source": [
    "<ul>\n",
    "<li><a href=\"#Abstract\">Abstract</a></li>\n",
    "<li><a href=\"#BeforeWeStart\">Before we start</a></li>\n",
    "<li><a href=\"#SchoolLinks\">School Lecture Slides & Notes</a></li>\n",
    "<li><a href=\"#PromptFissionNeutrons\">Prompt fission neutrons</a></li>\n",
    "<li><a href=\"#RetrievingEvaluatedData\">Retrieving Data from Evaluated Libraries</a></li>\n",
    "<li><a href=\"#RetrievingExperimentalData\">Retrieving Experimental Data</a></li>\n",
    "<li><a href=\"#AnalyzingExperimentalData\">Analyzing Experimental Data</a></li>\n",
    "<li><a href=\"#ModelCalculations\">Model Calculations</a>\n",
    "<ul>\n",
    "<li><a href=\"#MadlandNix\">Madland-Nix model</a></li>\n",
    "<li><a href=\"#Maxwellian\">Maxwellian spectrum</a></li>\n",
    "<li><a href=\"#Watt\">Watt spectrum</a></li>\n",
    "</ul>\n",
    "</li>\n",
    "<li><a href=\"#Bayes\">Learning the \"Bayesian Way\"</a></li>\n",
    "<li><a href=\"#ENDFFormatting\">Producing Formatted Evaluated Results</a></li>\n",
    "<li><a href=\"#Processing\">Processing for Applications</a></li>\n",
    "<li><a href=\"#Benchmarking\">Benchmarking and Feedback from Integral Data</a></li>\n",
    "<li><a href=\"#FinalNotes\">Final Notes</a></li>\n",
    "</ul>"
   ]
  },
  {
   "cell_type": "markdown",
   "metadata": {},
   "source": [
    "<a id=\"Abstract\"></a>"
   ]
  },
  {
   "cell_type": "markdown",
   "metadata": {},
   "source": [
    "<a id=\"BeforeWeStart\"></a>\n",
    "### Before we start"
   ]
  },
  {
   "cell_type": "markdown",
   "metadata": {},
   "source": [
    "<h4><font color=\"darkred\">IMPORTANT: Install python packages needed for this notebook</font></h4>\n",
    "\n",
    "<a href=\"http://ipython.org/install.html\">IP[y]: IPython Interactive Computing</a>\n",
    "\n",
    "<ol>\n",
    "<li>Download free edition of <a href=\"https://store.enthought.com/downloads/\">Enthought's Canopy</a></li>\n",
    "<li>Update IPython to the current version, using the Terminal: <font face=\"courier\">enpkg ipython</font></li>\n",
    "<li>Python 2.7 or >= 3.3 (if you use Python 2.6 or 3.2, you will need to use IPython 1.0)</li>\n",
    "</ol>\n"
   ]
  },
  {
   "cell_type": "markdown",
   "metadata": {},
   "source": [
    "### Setting environment and plotting variables, and importing Python libraries [DO NOT MODIFY]"
   ]
  },
  {
   "cell_type": "code",
   "execution_count": 1,
   "metadata": {
    "collapsed": false
   },
   "outputs": [
    {
     "name": "stdout",
     "output_type": "stream",
     "text": [
      "Populating the interactive namespace from numpy and matplotlib\n"
     ]
    }
   ],
   "source": [
    "import numpy as np # www.numpy.org :: numerical tools for scientific computing\n",
    "import scipy as sp # www.scipy.org :: \"ecosystem of open-source software for mathematics, science, and engineering\"\n",
    "\n",
    "import matplotlib.pyplot as plt\n",
    "import matplotlib.gridspec as gridspec\n",
    "%matplotlib inline\n",
    "\n",
    "import IPython as IP\n",
    "from IPython.display import Image, FileLink, FileLinks, YouTubeVideo\n",
    "\n",
    "%pylab inline\n",
    "\n",
    "# settings for plots generated by matplotlib\n",
    "\n",
    "import matplotlib as mpl\n",
    "mpl.rcParams['lines.linewidth']=2\n",
    "mpl.rcParams['font.size']=16\n",
    "\n",
    "# define some plot styles\n",
    "\n",
    "font = {'family' : 'serif',\n",
    "        'color'  : 'darkred',\n",
    "        'weight' : 'normal',\n",
    "        'size'   : 20,\n",
    "        }"
   ]
  },
  {
   "cell_type": "markdown",
   "metadata": {
    "collapsed": false
   },
   "source": [
    "### Defining paths to image and data files"
   ]
  },
  {
   "cell_type": "code",
   "execution_count": 2,
   "metadata": {
    "collapsed": false
   },
   "outputs": [],
   "source": [
    "# Defining paths to image and data files\n",
    "\n",
    "BASEDIR  = \"/Users/talou/Sites/fiesta2017/jupyter/\"  #-- TO ADJUST BY USER\n",
    "\n",
    "IMAGEDIR = BASEDIR+\"images/\" # images\n",
    "DATADIR  = BASEDIR+\"data/\"   # all data (experiment, ENDF, etc) files needed for this notebook\n",
    "PAPERDIR = BASEDIR+\"papers/\" # publications, papers, reports, ...\n",
    "OUTDIR   = BASEDIR+\"output/\" # output generated by the user of this notebook should be here"
   ]
  },
  {
   "cell_type": "markdown",
   "metadata": {},
   "source": [
    "<a id=\"PromptFissionNeutrons\"></a>"
   ]
  },
  {
   "cell_type": "markdown",
   "metadata": {},
   "source": [
    "### Prompt Fission Neutrons"
   ]
  },
  {
   "cell_type": "markdown",
   "metadata": {},
   "source": [
    "De-excitation of excited primary fission fragments by emission of \"prompt\" fission neutrons and photons.\n",
    "\n",
    "<strong>The simple picture:</strong> A binary fission event produces two fragments, often a light and a heavy partner, that are deformed and excited compared to their ground-state configuration. They will emit so-called prompt neutrons and photons to get back to a more stable configuration. Prompt neutrons will remove most of the excitation energy, while $\\gamma$ rays will tend to remove most of their angular momentum.\n",
    "\n",
    "<strong>Not so simple...</strong> some neutrons may be emitted prior to scission, at scission, or during the acceleration of the two fragments. At higher incident energies, some neutrons may come from a pre-equilibrium contribution. Some anisotropy in the angular distribution of the neutrons can be due to emission of neutrons from rotating fragments, or/and from \"scission\" neutrons, etc.\n",
    "\n",
    "We will not worry about these complications here.\n"
   ]
  },
  {
   "cell_type": "code",
   "execution_count": 3,
   "metadata": {
    "collapsed": false
   },
   "outputs": [
    {
     "data": {
      "image/png": "[encoded data removed]",
      "text/plain": [
       "<IPython.core.display.Image object>"
      ]
     },
     "execution_count": 3,
     "metadata": {
      "image/png": {
       "width": "50%"
      }
     },
     "output_type": "execute_result"
    }
   ],
   "source": [
    "Image(IMAGEDIR+\"PostScissionCascade.png\" , width=\"50%\")"
   ]
  },
  {
   "cell_type": "markdown",
   "metadata": {},
   "source": [
    "<strong>The question we want to address here is: what is the energy spectrum (distribution) of the emitted neutrons?</strong>"
   ]
  },
  {
   "cell_type": "markdown",
   "metadata": {},
   "source": [
    "<p><font color=\"darkred\" size=\"4em\">The goal of an evaluation is to assess the value and accuracy of a physical quantity of interest to the best of our knowledge. This knowledge can come from experimental data, fundamental physics theory, modeling, and even \"expert guesses\".</font></p>\n",
    "\n",
    "<p><font color=\"darkred\" size=\"4em\">The role of the evaluator is to collect all pertinent information and estimate the best value of this quantity, along with its uncertainty.</font></p>"
   ]
  },
  {
   "cell_type": "markdown",
   "metadata": {},
   "source": [
    "<a id=\"RetrievingEvaluatedData\"></a>"
   ]
  },
  {
   "cell_type": "markdown",
   "metadata": {},
   "source": [
    "### Retrieving Data Files from Evaluated Libraries"
   ]
  },
  {
   "cell_type": "raw",
   "metadata": {},
   "source": [
    "A first step if often to see what has been done before. What is the status of current evaluated libraries?"
   ]
  },
  {
   "cell_type": "markdown",
   "metadata": {},
   "source": [
    "#### From the ENDF-102 Manual:"
   ]
  },
  {
   "cell_type": "raw",
   "metadata": {},
   "source": [
    "\"The ENDF system was developed for the storage and retrieval of evaluated nuclear data to be used for applications of nuclear technology.\""
   ]
  },
  {
   "cell_type": "markdown",
   "metadata": {},
   "source": [
    "<strong><font color=\"darkred\" size=\"4em\">ENDF :: Evaluated Nuclear Data Format</font></strong>"
   ]
  },
  {
   "cell_type": "markdown",
   "metadata": {},
   "source": [
    "[ENDF Manual](papers/ENDF-102.pdf) // how to include a link to a local file"
   ]
  },
  {
   "cell_type": "raw",
   "metadata": {},
   "source": [
    "The ENDF manual describes the formats and procedures used to store the evaluated nuclear data. A given file corresponds to a specific reaction (incident particle + target nucleus) and contains information on cross sections, secondary energy spectrum, multiplicities, angular distributions, etc."
   ]
  },
  {
   "cell_type": "raw",
   "metadata": {},
   "source": [
    "Prompt fission neutron spectra can be stored in either MF5,MT18 (the most commonly used) or MF6,MT18 ENDF sections. In the latter, the energy and angular dependences of the prompt fission neutrons are given."
   ]
  },
  {
   "cell_type": "markdown",
   "metadata": {},
   "source": [
    "Many <strong>sub-libraries</strong>:\n",
    "\n",
    "<ul>\n",
    "<li>NSUB=0: photo-nuclear data</li>\n",
    "<li>NSUB=4: radioactive decay data</li>\n",
    "<li>NSUB=10: incident neutron data</li>\n",
    "<li>NSUB=1,5,11: fission yields</li>\n",
    "<li>...</li>\n",
    "</ul>"
   ]
  },
  {
   "cell_type": "markdown",
   "metadata": {},
   "source": [
    "#### The Anatomy of an ENDF file"
   ]
  },
  {
   "cell_type": "raw",
   "metadata": {},
   "source": [
    "An ENDF file is composed of \"files\" (MF) and \"sections\" (MT). \n",
    "\n",
    "Each \"file\" (MF) contains data about a certain type of quantity, e.g., MF=3 contains reaction cross sections, MF=4 contains angular distributions; MF=5 contains secondary particle energy distributions, etc. MF runs from 1 to 99.\n",
    "\n",
    "Each \"section\" (MT) contains data about a particular reaction, e.g., MT=18 contains fission data; MT=102 is for capture data, etc. MT runs from 1 to 999."
   ]
  },
  {
   "cell_type": "markdown",
   "metadata": {},
   "source": [
    "###### MF=1, MT=451"
   ]
  },
  {
   "cell_type": "raw",
   "metadata": {},
   "source": [
    "The MF=1 MT=451 section contains the documentation and the dictionary of the ENDF file. [check B-VII file]"
   ]
  },
  {
   "cell_type": "markdown",
   "metadata": {},
   "source": [
    "###### MF=5, MT=18 (prompt fission neutron spectrum)"
   ]
  },
  {
   "cell_type": "markdown",
   "metadata": {},
   "source": [
    "                                    5         18       4563          19437 1451 1355\n",
    "    ...\n",
    "                                   35         18       6373          09437 1451 1385"
   ]
  },
  {
   "cell_type": "code",
   "execution_count": 4,
   "metadata": {
    "collapsed": false
   },
   "outputs": [
    {
     "data": {
      "image/png": "[encoded data removed]",
      "text/plain": [
       "<IPython.core.display.Image object>"
      ]
     },
     "execution_count": 4,
     "metadata": {
      "image/png": {
       "width": "60%"
      }
     },
     "output_type": "execute_result"
    }
   ],
   "source": [
    "Image(IMAGEDIR+\"MF5MT18screenshot.png\", width=\"60%\")"
   ]
  },
  {
   "cell_type": "code",
   "execution_count": 5,
   "metadata": {
    "collapsed": false
   },
   "outputs": [],
   "source": [
    "# Some ENDF routines here...\n",
    "\n",
    "import re\n",
    "\n",
    "# Retrieve a section (MF,MT) from an ENDF file\n",
    "\n",
    "def readSection(filename,MFsearch,MTsearch):\n",
    "    mysection=[]\n",
    "    with open(filename) as f:\n",
    "        lines = f.readlines()\n",
    "        for line in lines:\n",
    "            MAT=int(line[66:70])\n",
    "            MF=int(line[70:72])\n",
    "            MT=int(line[72:75])\n",
    "            if (MF==MFsearch and MT==MTsearch):\n",
    "                mysection.append(line)\n",
    "    mysection = ''.join(mysection)\n",
    "    return mysection\n",
    "\n",
    "def readHEAD (s):\n",
    "    ZA = int(addE(s[0:11]))\n",
    "    AWR = float(addE(s[11:22]))\n",
    "    L1 = int(s[22:33])\n",
    "    L2 = int(s[33:44])\n",
    "    N1 = int(s[44:55])\n",
    "    N2 = int(s[55:66])\n",
    "    return ZA,AWR,L1,L2,N1,N2\n",
    "\n",
    "def readTAB1(s):\n",
    "    C1 = float(addE(s[0:11]))\n",
    "    C2 = float(addE(s[11:22]))\n",
    "    L1 = int(s[22:33])\n",
    "    L2 = int(s[33:44])\n",
    "    NR = int(s[44:55])\n",
    "    NP = int(s[55:66])\n",
    "    MAT = int(s[66:70])\n",
    "    MF = int(s[70:72])\n",
    "    MT = int(s[72:75])\n",
    "\n",
    "    # Exercise: implement reading TAB1 subsection\n",
    "    return C1, C2, L1, L2, NR, NP\n",
    "\n",
    "def readTAB2(s):\n",
    "    # Exercise: implement reading TAB2 subsection\n",
    "    return\n",
    "\n",
    "def addE (s):\n",
    "    s = re.sub('-','e-',s)\n",
    "    s = re.sub('\\+','e+',s)\n",
    "    return float(s)\n"
   ]
  },
  {
   "cell_type": "code",
   "execution_count": 6,
   "metadata": {
    "collapsed": false
   },
   "outputs": [
    {
     "data": {
      "image/png": "[encoded data removed]",
      "text/plain": [
       "<IPython.core.display.Image object>"
      ]
     },
     "execution_count": 6,
     "metadata": {
      "image/png": {
       "width": "40px"
      }
     },
     "output_type": "execute_result"
    }
   ],
   "source": [
    "Image(IMAGEDIR+\"exercise-icon.png\", width=\"40px\")"
   ]
  },
  {
   "cell_type": "markdown",
   "metadata": {},
   "source": [
    "<strong>Exercise:</strong> implement reading TAB1 subsection\n",
    "\n",
    "<strong>Exercise:</strong> implement reading TAB2 subsection"
   ]
  },
  {
   "cell_type": "code",
   "execution_count": 7,
   "metadata": {
    "collapsed": false
   },
   "outputs": [
    {
     "data": {
      "image/png": "[encoded data removed]",
      "text/plain": [
       "<IPython.core.display.Image object>"
      ]
     },
     "execution_count": 7,
     "metadata": {
      "image/png": {
       "width": "40px"
      }
     },
     "output_type": "execute_result"
    }
   ],
   "source": [
    "Image(IMAGEDIR+\"exercise-icon.png\", width=\"40px\")"
   ]
  },
  {
   "cell_type": "markdown",
   "metadata": {},
   "source": [
    "<strong>Exercise</strong> Modify script to retrieve JENDL-4.0 and JEFF-3.1 results, and compare them on a plot."
   ]
  },
  {
   "cell_type": "code",
   "execution_count": 8,
   "metadata": {
    "collapsed": false
   },
   "outputs": [
    {
     "ename": "IOError",
     "evalue": "[Errno 2] No such file or directory: '/Users/talou/Sites/fiesta2017/jupyter/data/pu239.pfns.endfb71'",
     "output_type": "error",
     "traceback": [
      "\u001b[1;31m---------------------------------------------------------------------------\u001b[0m",
      "\u001b[1;31mIOError\u001b[0m                                   Traceback (most recent call last)",
      "\u001b[1;32m<ipython-input-8-50fa11cd92e4>\u001b[0m in \u001b[0;36m<module>\u001b[1;34m()\u001b[0m\n\u001b[0;32m      8\u001b[0m \u001b[0my\u001b[0m \u001b[1;33m=\u001b[0m \u001b[1;33m[\u001b[0m\u001b[1;33m[\u001b[0m\u001b[1;33m]\u001b[0m \u001b[1;32mfor\u001b[0m \u001b[0mi\u001b[0m \u001b[1;32min\u001b[0m \u001b[0mrange\u001b[0m\u001b[1;33m(\u001b[0m\u001b[0mnumberEnergies\u001b[0m\u001b[1;33m)\u001b[0m\u001b[1;33m]\u001b[0m\u001b[1;33m\u001b[0m\u001b[0m\n\u001b[0;32m      9\u001b[0m \u001b[1;33m\u001b[0m\u001b[0m\n\u001b[1;32m---> 10\u001b[1;33m \u001b[1;32mwith\u001b[0m \u001b[0mopen\u001b[0m \u001b[1;33m(\u001b[0m\u001b[0mDATADIR\u001b[0m\u001b[1;33m+\u001b[0m\u001b[1;34m'pu239.pfns.endfb71'\u001b[0m\u001b[1;33m,\u001b[0m\u001b[1;34m'r'\u001b[0m\u001b[1;33m)\u001b[0m \u001b[1;32mas\u001b[0m \u001b[0mf\u001b[0m\u001b[1;33m:\u001b[0m\u001b[1;33m\u001b[0m\u001b[0m\n\u001b[0m\u001b[0;32m     11\u001b[0m     \u001b[0mlines\u001b[0m \u001b[1;33m=\u001b[0m \u001b[0mf\u001b[0m\u001b[1;33m.\u001b[0m\u001b[0mreadlines\u001b[0m\u001b[1;33m(\u001b[0m\u001b[1;33m)\u001b[0m\u001b[1;33m\u001b[0m\u001b[0m\n\u001b[0;32m     12\u001b[0m \u001b[1;33m\u001b[0m\u001b[0m\n",
      "\u001b[1;31mIOError\u001b[0m: [Errno 2] No such file or directory: '/Users/talou/Sites/fiesta2017/jupyter/data/pu239.pfns.endfb71'"
     ]
    }
   ],
   "source": [
    "# open file 'pu239.pfns.endfb71' and plot results\n",
    "\n",
    "neutronEnergies = [ 0.0, 0.5, 1.0, 1.5, 2.0, 2.5, 3.0, 4.0, 5.0, 6.0, \n",
    "                   7.0, 8.0, 9.0, 10.0, 11.0, 12.0, 13.0, 14.0, 15.0, 17.5, 20.0 ]\n",
    "numberEnergies = len(neutronEnergies)\n",
    "\n",
    "x = [[] for i in range(numberEnergies)]\n",
    "y = [[] for i in range(numberEnergies)]\n",
    "\n",
    "with open (DATADIR+'pu239.pfns.endfb71','r') as f:\n",
    "    lines = f.readlines()\n",
    "    \n",
    "    i=-1\n",
    "    for line in lines:\n",
    "        if (line == '\\n'):\n",
    "            continue\n",
    "        if (line[0]=='#'):\n",
    "            i=i+1\n",
    "            print(\"En = %6.2f MeV\" % float(line[line.find(']')+1:].strip()))\n",
    "            continue\n",
    "        \n",
    "        data=line.split()\n",
    "        x[i].append(float(data[0]))\n",
    "        y[i].append(float(data[1])*1e6)\n",
    "    \n",
    "xv = [[] for i in range(numberEnergies)]\n",
    "yv = [[] for i in range(numberEnergies)]\n",
    "\n",
    "for i in range(numberEnergies):\n",
    "    xv[i]=np.array(x[i])\n",
    "    yv[i]=np.array(y[i])\n"
   ]
  },
  {
   "cell_type": "code",
   "execution_count": null,
   "metadata": {
    "collapsed": false
   },
   "outputs": [],
   "source": [
    "# Checking data sets\n",
    "i=640\n",
    "print (xv[0][i], yv[0][i])"
   ]
  },
  {
   "cell_type": "code",
   "execution_count": null,
   "metadata": {
    "collapsed": false
   },
   "outputs": [],
   "source": [
    "# outgoing energy grid\n",
    "nout=len(x[0])\n",
    "egrid = np.empty(nout,dtype=float)\n",
    "for i in range(nout):\n",
    "    egrid[i] = x[0][i]\n",
    "\n",
    "# Maxwellian\n",
    "T=1.5\n",
    "#y=2/sqrt(3.14159*T**3)*sqrt(x)*exp(-x/T)\n",
    "\n",
    "Mw142 = np.empty(nout,dtype=float)\n",
    "for i in range(nout):\n",
    "    e=egrid[i]\n",
    "    Mw142[i] = 2/sqrt(3.14159*T**3)*sqrt(e)*exp(-e/T)\n",
    "    \n",
    "# Compute ratios to Maxwellian\n",
    "ratios = []\n",
    "for i in range(numberEnergies):\n",
    "    ratios.append(np.empty(nout))\n",
    "    ratios[i] = np.divide(yv[i],Mw142)"
   ]
  },
  {
   "cell_type": "code",
   "execution_count": null,
   "metadata": {
    "collapsed": false
   },
   "outputs": [],
   "source": [
    "# plot results\n",
    "\n",
    "fig = plt.figure(figsize=(16,16))\n",
    "\n",
    "gs = gridspec.GridSpec(2,2)\n",
    "#plt.subplots_adjust(hspace=0.5)\n",
    "\n",
    "ax1 = plt.subplot(gs[0,:])\n",
    "ax2 = plt.subplot(gs[1,0])\n",
    "ax3 = plt.subplot(gs[1,1])\n",
    "\n",
    "#ax1 = fig.add_axes([0.1,0.1,1.0,1.0])\n",
    "ax1.set_xscale(\"log\")\n",
    "ax1.set_xlim(1e-3,20)\n",
    "ax1.set_xlabel('Outgoing Neutron Energy (MeV)')\n",
    "ax1.set_ylabel('Neutron Spectrum (1/MeV)')\n",
    "ax1.set_ylim(0.0,0.4)\n",
    "ax1.set_title('Pu-239 PFNS')\n",
    "ax1.legend()\n",
    "plt.legend(loc=1)\n",
    "\n",
    "iskip = 10\n",
    "\n",
    "# absolute value\n",
    "for i in range(0,numberEnergies,iskip):\n",
    "    ax1.plot(xv[i],yv[i],label=str(neutronEnergies[i])+\" MeV\")\n",
    "\n",
    "#plt.legend(bbox_to_anchor=(1.05,1), loc=3, borderaxespad=0.)\n",
    "\n",
    "# log-log scale\n",
    "ax2.loglog()\n",
    "ax2.set_xlim(1e-3,20)\n",
    "ax2.set_ylim(1e-7,1)\n",
    "for i in range(0,numberEnergies,iskip):\n",
    "    ax2.plot(xv[i],yv[i],label=str(neutronEnergies[i])+\" MeV\")\n",
    "\n",
    "# ratio to Maxwellian\n",
    "ax3.semilogx()\n",
    "ax3.set_xlim(1e-3,20)\n",
    "ax3.set_ylim(0.5,1.2)\n",
    "for i in range(0,numberEnergies,iskip):\n",
    "    ax3.plot(xv[i],ratios[i],label=str(neutronEnergies[i])+\" MeV\")\n",
    "\n",
    "ax1.legend(prop={'size':10})\n",
    "ax2.legend(prop={'size':10})\n",
    "ax3.legend(prop={'size':10})\n",
    "\n",
    "plt.show()"
   ]
  },
  {
   "cell_type": "code",
   "execution_count": null,
   "metadata": {
    "collapsed": false
   },
   "outputs": [],
   "source": [
    "Image(IMAGEDIR+\"attention-icon.png\", width=\"40px\")"
   ]
  },
  {
   "cell_type": "markdown",
   "metadata": {},
   "source": [
    "Checking what already exists in the different libraries for a particular physical quantity of interest is one of the first things to do. But sometimes, no prior evaluation exists at all, e.g., multiplicity-dependent neutron spectra, not even the proper ENDF format..."
   ]
  },
  {
   "cell_type": "markdown",
   "metadata": {},
   "source": [
    "<a id=\"RetrievingExperimentalData\"></a>"
   ]
  },
  {
   "cell_type": "markdown",
   "metadata": {},
   "source": [
    "### Retrieving Experimental Data"
   ]
  },
  {
   "cell_type": "raw",
   "metadata": {},
   "source": [
    "Experimental data can be found through diverse channels: published papers, conference proceedings, private communication with experimentalists, online databases, Google, etc."
   ]
  },
  {
   "cell_type": "markdown",
   "metadata": {},
   "source": [
    "Some <strong>nuclear data centers</strong> to retrieve data from:\n",
    "<ul>\n",
    "    <li><a href=\"http://www.nndc.bnl.gov/exfor/exfor.htm\" target=\"new\">National Nuclear Data Center, Brookhaven</a> National Laboratory, USA</li>\n",
    "    <li><a href=\"http://www.oecd-nea.org/janisweb/search/exfor\" target=\"new\">Nuclear Energy Agency, Paris</a>, France</li>\n",
    "    <li><a href=\"http://www-nds.iaea.org\" target=\"new\">International Atomic Energy Agency, Vienna</a>, Austria</li>\n",
    "</ul>"
   ]
  },
  {
   "cell_type": "code",
   "execution_count": null,
   "metadata": {
    "collapsed": false
   },
   "outputs": [],
   "source": [
    "# not working... I am not sure why...\n",
    "\n",
    "import IPython as IP\n",
    "url = \"http://www.google.com\"\n",
    "iframe = '<iframe src=' + url + 'width=700 height=350></iframe>'\n",
    "IP.display.HTML(iframe)\n",
    "#from IPython.display import IFrame\n",
    "#IFrame(url, width=700, height=350)\n"
   ]
  },
  {
   "cell_type": "code",
   "execution_count": null,
   "metadata": {
    "collapsed": false
   },
   "outputs": [],
   "source": [
    "Image(IMAGEDIR+\"exercise-icon.png\", width=\"40px\")"
   ]
  },
  {
   "cell_type": "markdown",
   "metadata": {},
   "source": [
    "<strong>Exercise:</strong> Try to retrieve the same information from the NEA Databank website."
   ]
  },
  {
   "cell_type": "code",
   "execution_count": null,
   "metadata": {
    "collapsed": false
   },
   "outputs": [],
   "source": [
    "# Staples'1995 PFNS data (EXFOR# 13982-003)\n",
    "FileLink(DATADIR+'pu239.pfns.Staples95.dat')"
   ]
  },
  {
   "cell_type": "code",
   "execution_count": null,
   "metadata": {
    "collapsed": false
   },
   "outputs": [],
   "source": [
    "# Starostov'1985 PFNS data (EXFOR# 40930-008)\n",
    "FileLink(DATADIR+'pu239.pfns.Starostov85.dat')"
   ]
  },
  {
   "cell_type": "code",
   "execution_count": null,
   "metadata": {
    "collapsed": false
   },
   "outputs": [],
   "source": [
    "Image(IMAGEDIR+\"exercise-icon.png\", width=\"40px\")"
   ]
  },
  {
   "cell_type": "markdown",
   "metadata": {},
   "source": [
    "<strong>Exercise:</strong> replace Staples by Starostov or Knitter data\n"
   ]
  },
  {
   "cell_type": "code",
   "execution_count": null,
   "metadata": {
    "collapsed": false
   },
   "outputs": [],
   "source": [
    "from re import match\n",
    "\n",
    "f = open(DATADIR+'pfns.dat','r')\n",
    "lines = f.readlines()\n",
    "f.close()\n",
    "\n",
    "for line in lines:\n",
    "    if match(r'ENTRY',line):\n",
    "        EXFOR = line.split()[1]\n",
    "    if match(r'AUTHOR',line):\n",
    "        FirstAuthor = line[line.index('(')+1:line.index(',')]\n",
    "    if match(r'REFERENCE',line):\n",
    "        Reference = line.split()[1]\n",
    "\n",
    "print ('EXFOR entry:  {0}'.format(EXFOR))\n",
    "print ('First Author: {0}'.format(FirstAuthor))\n",
    "print ('Reference:    {0}'.format(Reference))"
   ]
  },
  {
   "cell_type": "code",
   "execution_count": null,
   "metadata": {
    "collapsed": false
   },
   "outputs": [],
   "source": [
    "# Find the DATA section\n",
    "iline=0\n",
    "for i,line in enumerate(lines,0):\n",
    "    if line.split():\n",
    "        if (line.split()[0]=='DATA'):\n",
    "            iline = i\n",
    "            \n",
    "# Extract DATA values into a numpy array\n",
    "data=[]\n",
    "for line in lines[iline:]:\n",
    "    if (line[:7]=='ENDDATA'):\n",
    "        break\n",
    "    fields = line.split()\n",
    "    try:\n",
    "        raw_data = [float(x) for x in fields]\n",
    "        data.append(raw_data)\n",
    "    except:\n",
    "        continue\n",
    "    \n",
    "data=array(data)\n",
    "\n",
    "# Organize data for different incident neutron energies\n",
    "\n",
    "Einc = [0.5,1.5,2.5,3.5]\n",
    "\n",
    "expdata = []\n",
    "for i in range(size(Einc)):\n",
    "    print (i, \"-\", Einc[i], \"MeV\")\n",
    "    mask = data[:,0]==Einc[i]\n",
    "    raw_data = data[mask]\n",
    "    expdata.append(raw_data)"
   ]
  },
  {
   "cell_type": "code",
   "execution_count": null,
   "metadata": {
    "collapsed": false
   },
   "outputs": [],
   "source": [
    "#print expdata[0][:,1]"
   ]
  },
  {
   "cell_type": "code",
   "execution_count": null,
   "metadata": {
    "collapsed": false
   },
   "outputs": [],
   "source": [
    "# Plot experimental data\n",
    "\n",
    "fig=figure(figsize=(14,14))\n",
    "fig.suptitle('PFNS Experimental Data from {0}, EXFOR Entry # {1}'.format(FirstAuthor,EXFOR),fontdict=font)\n",
    "\n",
    "ax = plt.subplot(2,2,1,xlabel=\"Outgoing neutron energy (MeV)\", ylabel=\"Neutron Spectrum (1/MeV)\")\n",
    "for i in range(size(expdata)):\n",
    "    plt.loglog(expdata[i][:,1],expdata[i][:,2],marker='o',label='{0} MeV'.format(Einc[i]))\n",
    "plt.legend()\n",
    "\n",
    "ax = plt.subplot(2,2,2,xlabel=\"Outgoing neutron energy (MeV)\", ylabel=\"Neutron Spectrum (1/MeV)\")\n",
    "for i in range(size(expdata)):\n",
    "    plt.plot(expdata[i][:,1],expdata[i][:,2],marker='o',label='{0} MeV'.format(Einc[i]))\n",
    "plt.legend()\n",
    "\n",
    "ax = plt.subplot(2,2,3,xlabel=\"Outgoing neutron energy (MeV)\", ylabel=\"Neutron Spectrum (1/MeV)\")\n",
    "plt.plot(expdata[0][:,1],expdata[0][:,2],'r.',label='{0} MeV'.format(Einc[0]))\n",
    "plt.legend()\n",
    "\n",
    "ax = plt.subplot(2,2,4,xlabel=\"Outgoing neutron energy (MeV)\", ylabel=\"Neutron Spectrum (1/MeV)\")\n",
    "plt.errorbar(expdata[3][:,1],expdata[3][:,2],expdata[3][:,3],color='r',fmt='o',label='{0} MeV'.format(Einc[3]))\n",
    "plt.legend()\n",
    "\n",
    "plt.tight_layout()\n",
    "plt.subplots_adjust(top=0.92)\n",
    "plt.show()"
   ]
  },
  {
   "cell_type": "code",
   "execution_count": null,
   "metadata": {
    "collapsed": false
   },
   "outputs": [],
   "source": [
    "Image(IMAGEDIR+\"exercise-icon.png\", width=\"40px\")"
   ]
  },
  {
   "cell_type": "markdown",
   "metadata": {},
   "source": [
    "<strong>Exercise:</strong> perform similar retrieval and plotting tasks with Knitter data."
   ]
  },
  {
   "cell_type": "markdown",
   "metadata": {},
   "source": [
    "<a id=\"AnalyzingExperimentalData\"></a>"
   ]
  },
  {
   "cell_type": "markdown",
   "metadata": {},
   "source": [
    "### Analyzing Experimental Data, Uncertainties and Covariance Matrices"
   ]
  },
  {
   "cell_type": "code",
   "execution_count": null,
   "metadata": {
    "collapsed": false
   },
   "outputs": [],
   "source": [
    "Image(IMAGEDIR+\"attention-icon.png\", width=\"40px\")"
   ]
  },
  {
   "cell_type": "markdown",
   "metadata": {},
   "source": [
    "<font color=\"red\">Experimental data present in the EXFOR database are <strong>rarely</strong> in a form suitable for automatic use for an evaluation, and careful analysis of the reference publication(s) is warranted.</font>"
   ]
  },
  {
   "cell_type": "markdown",
   "metadata": {},
   "source": [
    "#### Constructing a Covariance Matrix for Experimental Data"
   ]
  },
  {
   "cell_type": "markdown",
   "metadata": {},
   "source": [
    "Experimental Covariance Matrix for Knitter data\n",
    "\n",
    "A realistic evaluation of an experimental covariance matrix requires a careful analysis of the experimental setup, data, publications, etc. This was done in Neudecker et al., LA-UR-13-24743 (2013) in the case of Pu-239 PFNS.\n",
    "\n",
    "In the case of Knitter data, and only considering a very simplified version of Neudecker's analysis, we can consider different sources of uncertainty:\n",
    "\n",
    "<ul>\n",
    "<li>Statistical, $\\sigma_s(E_i)$</li>\n",
    "<li>Detector efficiency, $\\sigma_d(E_i,E_j)$</li>\n",
    "<li>Multiple scattering corrections, $\\sigma_m(E_i,E_j)$</li>\n",
    "<li>Deconvolution uncertainty (related to energy resolution), $\\sigma_e(E_i,E_j)$</li>\n",
    "</ul>\n",
    "\n",
    "to reconstruct a covariance matrix:\n",
    "\n",
    "\\begin{eqnarray}\n",
    "cov\\left(N(E_i),N(E_j)\\right) \\equiv cov\\left(N_i,N_j\\right) &=& \\sigma_s^2 \\delta_{ij} + \\sigma^d_i\\sigma^d_j\\rho^d_{ij}+\\sigma^m_i\\sigma^m_j\\rho^m_{ij}+\\sigma^e_i\\sigma^e_j\\rho^e_{ij}\n",
    "\\end{eqnarray}\n",
    "\n",
    "In each case, correlations are assumed to decrease with increasing distance between two energy points, and are obtained as:\n",
    "\n",
    "\\begin{eqnarray}\n",
    "\\rho_{ij} = exp\\left[-\\left(\\frac{(E_i-E_j)}{max(E_i,Ej)}\\right)^2\\right]\n",
    "\\end{eqnarray}\n",
    "\n",
    "\n",
    "\n"
   ]
  },
  {
   "cell_type": "code",
   "execution_count": null,
   "metadata": {
    "collapsed": false
   },
   "outputs": [],
   "source": [
    "FileLinks(DATADIR+\"KnitterStaples/\")"
   ]
  },
  {
   "cell_type": "code",
   "execution_count": null,
   "metadata": {
    "collapsed": false
   },
   "outputs": [],
   "source": [
    "# Build covariance matrix for Knitter data\n",
    "\n",
    "# load all sources of uncertainty\n",
    "energies, statistical, energyUnc, multipleScattering, deconvolution, detectorEfficiency = np.loadtxt(\n",
    "DATADIR+\"KnitterStaples/KnitterPartialRelUnc.dat\",comments='#',unpack=True)\n",
    "\n",
    "# load PFNS and total relative uncertainty\n",
    "Eout, PFNS, TotalRelUnc = np.loadtxt(DATADIR+\"KnitterStaples/KnitterTotalDataRelUnc.dat\",comments=\"#\",unpack=True)\n",
    "\n",
    "ne=Eout.size\n",
    "\n",
    "# load correlation matrix\n",
    "KnitterCorr = np.zeros([ne,ne])\n",
    "with open(DATADIR+\"KnitterStaples/KnitterTotalCor.dat\",\"r\") as f:\n",
    "    for i in range(ne):\n",
    "        f.readline()\n",
    "        for j in range(ne):\n",
    "            dummy, dummy, KnitterCorr[i][j] = f.readline().split()\n"
   ]
  },
  {
   "cell_type": "code",
   "execution_count": null,
   "metadata": {
    "collapsed": false
   },
   "outputs": [],
   "source": [
    "# multiple scattering corrections\n",
    "\n",
    "sigms = np.zeros([ne])\n",
    "covms = np.zeros([ne,ne])\n",
    "corms = np.zeros([ne,ne])\n",
    "\n",
    "for i in range(ne):\n",
    "    if (energies[i]<0.25):\n",
    "        sigms[i]=21.0\n",
    "    elif (energies[i]>2.0):\n",
    "        sigms[i]=0.0\n",
    "    else:\n",
    "        sigms[i]=21.0-21.0*(energies[i]-0.25)/(2.0-0.25)\n",
    "\n",
    "for i in range(ne):\n",
    "    for j in range(ne):\n",
    "        if (i==j):\n",
    "            covms[i][j]=sigms[i]**2\n",
    "        else:\n",
    "    #        covms[i][j]=0.0\n",
    "            covms[i][j]=sigms[i]*sigms[j]*exp(-((energies[i]-energies[j])/max(energies[i],energies[j]))**2)\n",
    "\n",
    "for i in range(ne):\n",
    "    for j in range(ne):\n",
    "        if (covms[i][i]==0.0 or covms[j][j]==0.0):\n",
    "            corms[i][j]=1.0\n",
    "        else:\n",
    "            corms[i][j]=covms[i][j]/sqrt(covms[i][i]*covms[j][j])\n"
   ]
  },
  {
   "cell_type": "code",
   "execution_count": null,
   "metadata": {
    "collapsed": false
   },
   "outputs": [],
   "source": [
    "fig=figure(figsize(12,6))\n",
    "\n",
    "gs = gridspec.GridSpec(1,2)\n",
    "\n",
    "ax1 = plt.subplot(gs[0,0])\n",
    "ax2 = plt.subplot(gs[0,1])\n",
    "\n",
    "ax1.axis([0,2.0,-1,25])\n",
    "ax1.set_xlabel(\"Neutron Energy (MeV)\")\n",
    "ax1.set_ylabel(\"Relative Uncertainty (%)\")\n",
    "ax1.plot(energies,sigms)\n",
    "\n",
    "ax2.axis([0.25,2.0,0.25,2.0])\n",
    "ax2.set_aspect('equal')\n",
    "ax2.set_xscale('log')\n",
    "ax2.set_yscale('log')\n",
    "ax2.set_xlabel(\"Neutron Energy (MeV)\")\n",
    "ax2.set_ylabel(\"Neutron Energy (MeV)\")\n",
    "ax2.pcolormesh(energies,energies,corms)\n",
    "\n",
    "plt.tight_layout()\n",
    "plt.show()"
   ]
  },
  {
   "cell_type": "code",
   "execution_count": null,
   "metadata": {
    "collapsed": false
   },
   "outputs": [],
   "source": [
    "Image(IMAGEDIR+\"exercise-icon.png\", width=\"40px\")"
   ]
  },
  {
   "cell_type": "markdown",
   "metadata": {},
   "source": [
    "<strong>Exercise:</strong> obtain the covariance matrices corresponding to the other sources of uncertainty."
   ]
  },
  {
   "cell_type": "code",
   "execution_count": null,
   "metadata": {
    "collapsed": false
   },
   "outputs": [],
   "source": [
    "# plot all sources of uncertainty\n",
    "\n",
    "fig=figure(figsize=(18,6))\n",
    "fig.suptitle('Knitter data, Uncertainties & Correlations',fontdict=font)\n",
    "\n",
    "gs = gridspec.GridSpec(1,3)\n",
    "\n",
    "ax1 = plt.subplot(gs[0,0])\n",
    "ax2 = plt.subplot(gs[0,1],sharex=ax1)\n",
    "ax3 = plt.subplot(gs[0,2])\n",
    "\n",
    "ax1.axis([0,14,1,200])\n",
    "ax1.set_xlabel(\"Neutron Energy (MeV)\")\n",
    "ax1.set_ylabel(\"Relative Uncertainty (%)\")\n",
    "\n",
    "ax1.semilogy(energies,statistical,'b--',linewidth=2,label=\"Statistics\")\n",
    "ax1.semilogy(energies,energyUnc,'r:',linewidth=2,label=\"Energy Uncertainty\")\n",
    "ax1.semilogy(energies,multipleScattering,'g-',linewidth=2,label=\"Multiple Scattering\")\n",
    "ax1.semilogy(energies,deconvolution,'g-.',linewidth=2,label=\"Deconvolution\")\n",
    "ax1.semilogy(energies,detectorEfficiency,'r--',linewidth=2,label=\"Detector Efficiency\")\n",
    "ax1.semilogy(energies,TotalRelUnc,'r-',linewidth=3)\n",
    "\n",
    "ax2.set_xlabel(\"Neutron Energy (MeV)\")\n",
    "ax2.set_ylabel(\"Relative Uncertainty (%)\")\n",
    "\n",
    "ax2.set_yscale('log')\n",
    "ax2.grid()\n",
    "ax2.errorbar(Eout,PFNS,TotalRelUnc*PFNS/100,fmt='o')\n",
    "ax2.plot(Eout,PFNS,'r-')\n",
    "\n",
    "ax3.set_xlabel('Neutron Energy (MeV)')\n",
    "ax3.set_ylabel('Neutron Energy (MeV)')\n",
    "\n",
    "ax3.set_xscale('log')\n",
    "ax3.set_yscale('log')\n",
    "ax3.set_aspect('equal')\n",
    "ax3.axis([0.2,20,0.2,20])\n",
    "ax3.pcolormesh(Eout,Eout,KnitterCorr)\n",
    "\n",
    "ax1.legend(loc=\"best\",prop={'size':12})\n",
    "plt.tight_layout()\n",
    "plt.subplots_adjust(top=0.85)\n",
    "plt.show()"
   ]
  },
  {
   "cell_type": "code",
   "execution_count": null,
   "metadata": {
    "collapsed": false
   },
   "outputs": [],
   "source": [
    "Image(IMAGEDIR+\"exercise-icon.png\", width=\"40px\")"
   ]
  },
  {
   "cell_type": "markdown",
   "metadata": {},
   "source": [
    "<strong>Exercise:</strong> \"toy\" with sources of uncertainties and study the changes in the covariance matrix."
   ]
  },
  {
   "cell_type": "markdown",
   "metadata": {},
   "source": [
    "<a id=\"ModelCalculations\"></a>"
   ]
  },
  {
   "cell_type": "markdown",
   "metadata": {},
   "source": [
    "### Model Calculations"
   ]
  },
  {
   "cell_type": "markdown",
   "metadata": {},
   "source": [
    "<a id=\"MadlandNix\"></a>"
   ]
  },
  {
   "cell_type": "markdown",
   "metadata": {},
   "source": [
    "#### Madland-Nix model"
   ]
  },
  {
   "cell_type": "markdown",
   "metadata": {},
   "source": [
    "<a href=\"http://www.ans.org/pubs/journals/nse/a_20086\">D.G.Madland and J.R.Nix, Nucl. Sci. Eng. 81, 213 (1982)</a>"
   ]
  },
  {
   "cell_type": "markdown",
   "metadata": {},
   "source": [
    "The neutron energy spectrum $N(E)$, in the laboratory frame, for a fission fragment moving with a kinetic energy per nucleon $E_f$ reads\n",
    "\n",
    "\\begin{eqnarray}\n",
    "N(E)=\\frac{1}{2\\sqrt{E_f}T_m^2}\\int_{\\left(\\sqrt{E}-\\sqrt{E_f}\\right)^2}^{\\left(\\sqrt{E}+\\sqrt{E_f}\\right)^2}d\\epsilon\\sigma_c(\\epsilon)\\sqrt{\\epsilon} \\nonumber \\\\\n",
    "\\times \\int_0^{T_m}{dTk(T)T \\mbox{exp}(-\\epsilon/T)},\n",
    "\\end{eqnarray}\n",
    "\n",
    "where $\\epsilon$ is the center-of-mass neutron energy, $k(T)$ is the temperature-dependent normalization constant given by\n",
    "\n",
    "\\begin{eqnarray}\n",
    "k(T)^{-1}=\\int_0^\\infty{d\\epsilon'\\sigma_c(\\epsilon')\\mbox{ }\\epsilon'\\mbox{ }\\mbox{exp}(-\\epsilon'/T)},\n",
    "\\end{eqnarray}\n",
    "\n",
    "$\\sigma_c(\\epsilon')$ is the energy-dependent cross section for the inverse process of compound nucleus formation, and $T_m$ is the maximum value of the triangular distribution of temperatures used to describe the excitation energy distribution in the fragments.\n",
    "\n",
    "Considering the most probable fragmentation only, the average neutron energy spectrum in the laboratory frame is given by an average over the spectra for the light and heavy fragments \n",
    "\n",
    "\\begin{eqnarray}\n",
    "N(E) = \\frac{1}{2}\\left[ N_L(E,E^L_F,\\sigma_c^L)+N_H(E,E^H_F,\\sigma_c^H) \\right],\n",
    "\\end{eqnarray}\n",
    "\n",
    "assuming an equal number of neutrons emitted from the light and heavy fragments.\n",
    "\n",
    "At higher incident energies, these formulas can be generalized to take into account the onset of multi-chance fission, i.e., the probability that one or more neutrons are emitted before the residual compound nucleus fissions. However, in the present work, we are only concerned with low-energy (0.5 MeV) fission for which only the first-chance fission component is non-zero.\n",
    "\n"
   ]
  },
  {
   "cell_type": "markdown",
   "metadata": {},
   "source": [
    "<strong>Note</strong>: that's where it would have been nice to use my code..."
   ]
  },
  {
   "cell_type": "markdown",
   "metadata": {},
   "source": [
    "<a id=\"Maxwellian\"></a>"
   ]
  },
  {
   "cell_type": "markdown",
   "metadata": {},
   "source": [
    "#### Maxwellian Approximation"
   ]
  },
  {
   "cell_type": "markdown",
   "metadata": {},
   "source": [
    "At low incident neutron energies, a PFNS resembles a Maxwellian distribution at a given temperature $T$. This distribution is given by:\n",
    "\n",
    "\\begin{eqnarray}\n",
    "\\mathcal{M}_T(E) = \\frac{2}{\\pi T^3} \\sqrt{E}\\mbox{ exp}(-E/T)\n",
    "\\end{eqnarray}"
   ]
  },
  {
   "cell_type": "code",
   "execution_count": null,
   "metadata": {
    "collapsed": false
   },
   "outputs": [],
   "source": [
    "def Maxwellian(x,T):\n",
    "    return 2.0/(pi*T**3)*sqrt(x)*exp(-x/T) \n",
    "\n",
    "x=linspace(0.0, 20.0, 200.)\n",
    "\n",
    "T = ([1.20,1.42,1.50,1.80]) # temperatures [MeV]\n",
    "\n",
    "y0 = Maxwellian(x,T[0])\n",
    "y1 = Maxwellian(x,T[1])\n",
    "y2 = Maxwellian(x,T[2])\n",
    "\n",
    "fig=figure(figsize=(14,6))\n",
    "\n",
    "fig.suptitle('Maxwellian Functions',fontdict=font)\n",
    "\n",
    "ax1=subplot(1,2,1,xlabel=\"Outgoing neutron energy (MeV)\", ylabel=\"Neutron Spectrum (1/MeV)\")\n",
    "plt.plot(x,y0,'r-',label='T={0} MeV'.format(T[0]))\n",
    "plt.plot(x,y1,'b--',label='T={0} MeV'.format(T[1]))\n",
    "plt.plot(x,y2,'g-.',label='T={0} MeV'.format(T[2]))\n",
    "plt.legend()\n",
    "\n",
    "ax2=subplot(1,2,2,xlabel=\"Outgoing neutron energy (MeV)\", ylabel=\"Neutron Spectrum (1/MeV)\")\n",
    "plt.loglog(x,y0,'r-',label='T={0} MeV'.format(T[0]))\n",
    "plt.loglog(x,y1,'b--',label='T={0} MeV'.format(T[1]))\n",
    "plt.loglog(x,y2,'g-.',label='T={0} MeV'.format(T[2]))\n",
    "plt.loglog(x,Maxwellian(x,T[3]),'m-',label='T={0} MeV'.format(T[3]))\n",
    "\n",
    "plt.legend()\n",
    "plt.show()\n",
    "\n"
   ]
  },
  {
   "cell_type": "markdown",
   "metadata": {},
   "source": [
    "<a id=\"Watt\"></a>"
   ]
  },
  {
   "cell_type": "markdown",
   "metadata": {},
   "source": [
    "#### Watt Spectrum"
   ]
  },
  {
   "cell_type": "code",
   "execution_count": null,
   "metadata": {
    "collapsed": false
   },
   "outputs": [],
   "source": [
    "Image(IMAGEDIR+'Watt-PhysRev1.png')"
   ]
  },
  {
   "cell_type": "code",
   "execution_count": null,
   "metadata": {
    "collapsed": false
   },
   "outputs": [],
   "source": [
    "Image(IMAGEDIR+'Watt-PhysRev2.png')"
   ]
  },
  {
   "cell_type": "code",
   "execution_count": null,
   "metadata": {
    "collapsed": false
   },
   "outputs": [],
   "source": [
    "# Code Watt spectrum here, with (a,b) parameters that can be tuned\n",
    "def Watt(x,a,b):\n",
    "    return exp(-a*x)*sinh(sqrt(b*x)) # no normalization!!\n",
    "\n",
    "a=([1.0,2.0,3.0])\n",
    "b=([0.5,3.0,4.0])\n",
    "\n",
    "x=linspace(0., 20., 300)\n",
    "\n",
    "y0=Watt(x,a[0],b[0])\n",
    "y1=Watt(x,a[1],b[1])\n",
    "y2=Watt(x,a[2],b[2])\n",
    "\n",
    "fig=figure(figsize=(12,6))\n",
    "\n",
    "fig.suptitle('Watt Spectra',fontdict=font)\n",
    "\n",
    "ax1=subplot(1,2,1,xlabel=\"Outgoing neutron energy (MeV)\", ylabel=\"Neutron Spectrum (1/MeV)\")\n",
    "plt.plot(x,y0,'r-',label='a={0} ; b={1}'.format(a[0],b[0]))\n",
    "plt.plot(x,y1,'b--',label='a={0} ; b={1}'.format(a[1],b[1]))\n",
    "plt.plot(x,y2,'g-.',label='a={0} ; b={1}'.format(a[2],b[2]))\n",
    "plt.legend()\n",
    "\n",
    "ax2=subplot(1,2,2,xlabel=\"Outgoing neutron energy (MeV)\", ylabel=\"Neutron Spectrum (1/MeV)\")\n",
    "plt.loglog(x,y0,'r-',label='a={0} ; b={1}'.format(a[0],b[0]))\n",
    "plt.loglog(x,y1,'b--',label='a={0} ; b={1}'.format(a[1],b[1]))\n",
    "plt.loglog(x,y2,'g-.',label='a={0} ; b={1}'.format(a[2],b[2]))\n",
    "\n",
    "plt.legend(loc=3)\n",
    "plt.show()\n"
   ]
  },
  {
   "cell_type": "markdown",
   "metadata": {},
   "source": [
    "<a id=\"Bayes\"></a>"
   ]
  },
  {
   "cell_type": "markdown",
   "metadata": {},
   "source": [
    "### Learning from Model Calculations and Experimental Data the \"Bayesian Way\""
   ]
  },
  {
   "cell_type": "markdown",
   "metadata": {},
   "source": [
    "##### A few quotes"
   ]
  },
  {
   "cell_type": "code",
   "execution_count": null,
   "metadata": {
    "collapsed": false
   },
   "outputs": [],
   "source": [
    "Image(IMAGEDIR+'Rodin_Le_Penseur.jpg', width=\"150\")"
   ]
  },
  {
   "cell_type": "markdown",
   "metadata": {},
   "source": [
    "<font color=\"darkred\">\"Probability theory is nothing but common sense reduced to calculation,\"</font> Pierre-Simon Laplace, 1819\n",
    "\n",
    "<font color=\"darkred\">\"Ignorance is preferable to error and he is less remote from the truth who believes nothing than he who believes what is wrong.\"</font> Thomas Jefferson, 1781\n",
    "\n",
    "<font color=\"darkred\">\"Statistics are like a drunk with a lampost: used more for support than illumination.\"</font> Winston S. Churchill, 1874-1965"
   ]
  },
  {
   "cell_type": "code",
   "execution_count": null,
   "metadata": {
    "collapsed": false
   },
   "outputs": [],
   "source": [
    "paper=Image(IMAGEDIR+'BayesPaperScreenshot.png')\n",
    "portrait=Image('images/Bayes.jpg',width=\"200px\")\n",
    "display(paper,portrait)"
   ]
  },
  {
   "cell_type": "code",
   "execution_count": null,
   "metadata": {
    "collapsed": false
   },
   "outputs": [],
   "source": [
    "YouTubeVideo('0F0QoMCSKJ4') # Introduction to Bayesian Statistics on YouTube"
   ]
  },
  {
   "cell_type": "markdown",
   "metadata": {},
   "source": [
    "<strong>Bayes's theorem</strong> is a rather simple consequence of basic rules of conditional probability theory:"
   ]
  },
  {
   "cell_type": "markdown",
   "metadata": {},
   "source": [
    "\\begin{equation*}P(A|BC)=\\frac{P(B|AC)P(A|C)}{P(B|C)} \\end{equation*}"
   ]
  },
  {
   "cell_type": "markdown",
   "metadata": {},
   "source": [
    "The <i>posterior</i> probability of an hypothesis $A$ given that both $B$ and $C$ are true is given by the product of a <i>likelihood</i> function, $P(B|AC)$, and a <i>prior</i> probability, $P(A|C)$."
   ]
  },
  {
   "cell_type": "markdown",
   "metadata": {},
   "source": [
    "If $B$ represent some experimental data that have been measured and $A$ is a physics model that represents the same physical quantity, $P(A|BC)$ represents the probability that the model $A$ is correct, given the observed $B$, under circumstances $C$."
   ]
  },
  {
   "cell_type": "markdown",
   "metadata": {},
   "source": [
    "#### The Kalman Filter"
   ]
  },
  {
   "cell_type": "markdown",
   "metadata": {},
   "source": [
    "R.E.Kalman, <a href=PAPERDIR+\"Kalman1960.pdf\">\"A New Approach to Linear Filtering and Prediction Problems\"</a>"
   ]
  },
  {
   "cell_type": "markdown",
   "metadata": {},
   "source": [
    "(First used in the Apollo space program for tracking trajectories.)\n",
    "\n",
    "The time evolution of a physical state can be written as\n",
    "\n",
    "\\begin{equation}\n",
    "x_k=F_kx_{k-1}+B_ku_k+w_k,\n",
    "\\end{equation}\n",
    "where\n",
    "<ul>\n",
    "<li>$x_k$ represents the \"true\" state at time $k$</li>\n",
    "<li>$F_k$ is the state transition model</li>\n",
    "<li>$B_k$ is the control input model</li>\n",
    "<li>$u_k$ is the control vector</li>\n",
    "<li>$w_k$ is the noise, with $w_k\\sim N(0,Q_k)$</li>\n",
    "</ul>\n",
    "\n",
    "This information is combined with observations\n",
    "\n",
    "\\begin{equation}\n",
    "z_k=H_kx_k+v_k,\n",
    "\\end{equation}\n",
    "with\n",
    "<ul>\n",
    "<li>$H_k$ is the observation model</li>\n",
    "<li>$v_k$ is the observation noise, such that $v_k\\sim N(0,R_k)$\n",
    "</ul>\n",
    "\n",
    "The Kalman filter technique contains two distinct phases: <strong>Predict</strong> and <strong>Update</strong>\n",
    "\n",
    "<u>Predict</u>\n",
    "\\begin{eqnarray}\n",
    "x_{k|k-1} & = & F_kx_{k-1}+B_ku_k \\\\\n",
    "P_{k|k-1} & = & F_kP_{k-1}F_k^T+Q_k\n",
    "\\end{eqnarray}\n",
    "\n",
    "<u>Update</u>\n",
    "\\begin{eqnarray}\n",
    "y_k &=& z_k-H_kx_{k|k-1}\\\\\n",
    "S_k &=& H_kP_{k|k-1}H_k^T+R_k \\\\\n",
    "K_k &=& P_{k|k-1}H_k^TS_k^{-1} \\mbox{(optimal Kalman gain)} \\\\\n",
    "x_k &=& x_{k|k-1}+K_ky_k  \\mbox{(updated state)}\\\\\n",
    "P_k &=& \\left( I-K_kH_k\\right)P_{k|k-1} \\mbox{(updated covariance)}\n",
    "\\end{eqnarray}\n",
    "\n",
    "\n"
   ]
  },
  {
   "cell_type": "markdown",
   "metadata": {},
   "source": [
    "#### The Kalman Filter and Nuclear Data Evaluations"
   ]
  },
  {
   "cell_type": "markdown",
   "metadata": {},
   "source": [
    "<ul>\n",
    "<li>No dynamics: $u_k$, $B_k$ and $F_k$ disappear</li>\n",
    "<li>No prediction step: $x_{k|k-1}=x_k$ and $P_{k|k-1}=P_k$</li>\n",
    "</ul>\n",
    "\n",
    "<p>\n",
    "<font color=\"darkred\">The Kalman filter is used as a <strong>recursive Bayesian estimation</strong>.</font></p>\n",
    "\n",
    "<p>We are left with\n",
    "\n",
    "\\begin{eqnarray}\n",
    "x_k &=& x_{k-1}+K_k\\left(z_k-H_kx_{k-1}\\right) \\\\\n",
    "P_k &=& \\left(I-K_kH_k\\right)P_{k-1}\n",
    "\\end{eqnarray}\n",
    "where\n",
    "\n",
    "\\begin{eqnarray}\n",
    "H_k &=& \\frac{\\partial z_k}{\\partial x_k} \\\\\n",
    "K_k &=& P_{k-1}H_k^T\\left( H_kP_{k-1}H_k^T+R_k\\right)^{-1}\n",
    "\\end{eqnarray}\n",
    "</p>\n",
    "\n",
    "<h5>Extended Kalman filter</h5>\n",
    "\n",
    "<p>Linear approximation with a first-order Taylor series expansion:</p>\n",
    "\n",
    "\\begin{equation*}\n",
    "y=f(x)+e\\simeq f(x_0)+C(x-x_0)+e,\n",
    "\\end{equation*}\n",
    "where $C$ is the sensitivity matrix.\n",
    "\n",
    "In the notation of <a href=\"http://www.ans.org/pubs/journals/nse/a_2021\">T.Kawano, Nucl. Sci. Eng. <strong>131</strong>, 107 (1999)</a>, we get\n",
    "\n",
    "\\begin{eqnarray}\n",
    "x_1 &=& x_0+XC^T\\left(CXC^T+V\\right)^{-1}\\left( y-f(x_0)\\right) \\\\\n",
    "P &=& X-XC^T\\left(CXC^T+V\\right)^{-1}CX,\n",
    "\\end{eqnarray}\n",
    "where $(x_0,X)$, respectively $(x_1,P)$, are the <i>prior</i>, respectively <i>posterior</i>, value and covariance matrix.\n",
    "\n",
    "\n",
    "\n",
    "<strong>Exercise</strong> implement these equations in python.\n",
    "\n",
    "\n",
    "\n",
    "\n",
    "\n",
    "\n"
   ]
  },
  {
   "cell_type": "code",
   "execution_count": null,
   "metadata": {
    "collapsed": false
   },
   "outputs": [],
   "source": [
    "# Python implementation of the Kalman filter\n",
    "\n",
    "# Goal: fit experimental PFNS data with a Watt spectrum\n",
    "\n",
    "# x-grid\n",
    "n=20\n",
    "egrid = np.arange(n)\n"
   ]
  },
  {
   "cell_type": "code",
   "execution_count": null,
   "metadata": {
    "collapsed": false
   },
   "outputs": [],
   "source": [
    "# Watt spectrum, depends on two parameters (a,b)\n",
    "def Watt(x,a,b):\n",
    "    return exp(-a*x)*sinh(sqrt(b*x))\n",
    "\n",
    "# default (prior) parameters\n",
    "a0=1.0\n",
    "b0=0.5\n",
    "\n",
    "# prior vector & covariance matrix (20% unc; no correlation)\n",
    "p0 = (a0,b0)\n",
    "P0 = ([0.02*a0,0.0],[0.0,0.02*b0])\n",
    "\n",
    "# prior Watt spectrum\n",
    "y0=Watt(x,a0,b0)\n"
   ]
  },
  {
   "cell_type": "code",
   "execution_count": null,
   "metadata": {
    "collapsed": false
   },
   "outputs": [],
   "source": [
    "print (p0, P0)"
   ]
  },
  {
   "cell_type": "code",
   "execution_count": null,
   "metadata": {
    "collapsed": false
   },
   "outputs": [],
   "source": [
    "# plot -----------------------------------------------------------------\n",
    "x=np.arange(0., 10.,0.01)\n",
    "\n",
    "fig=figure(figsize=(8,6))\n",
    "\n",
    "# prior\n",
    "x0=x\n",
    "y0=Watt(x,a0,b0)\n",
    "\n",
    "plt.yscale('log')\n",
    "plt.plot(x0,y0,'r-',label='prior; a={0} ; b={1}'.format(a0,b0))\n",
    "\n",
    "plt.legend()\n",
    "plt.show()"
   ]
  },
  {
   "cell_type": "code",
   "execution_count": null,
   "metadata": {
    "collapsed": false
   },
   "outputs": [],
   "source": [
    "# Measurements\n",
    "# generate some arbitrary data (following a Watt spectrum with different parameters) with\n",
    "# some noise\n",
    "nd=10 # number of data points\n",
    "\n",
    "edata=np.zeros(nd)   # energies\n",
    "sdata=np.zeros(nd)   # spectrum values\n",
    "uncdata=np.zeros(nd) # uncertainties on spectrum values\n",
    "\n",
    "# \"experimental\" data loosely following a Watt spectrum with parameters (1.2,1.0)\n",
    "def yd(x):\n",
    "    return (1.0+np.random.normal(0,0.2))*Watt(x,1.2,1.0)\n",
    "\n",
    "np.random.seed()\n",
    "noise = np.random.normal(0,0.2,nd) # mean, standard deviation, number of samples\n",
    "\n",
    "shape(edata)\n",
    "for i in range(nd):\n",
    "    edata[i]   = i+0.1\n",
    "    sdata[i]   = yd(edata[i])\n",
    "    uncdata[i] = (0.10+0.02*edata[i])*sdata[i]\n",
    "#    uncdata[i] = 0.10*sdata[i]\n",
    "    \n",
    "# \"experimental\" covariance matrix\n",
    "V=np.ndarray(shape=(nd,nd))\n",
    "for i in range(nd):\n",
    "    for j in range(nd):\n",
    "        if (i==j):\n",
    "            V[i,j]=uncdata[i]**2\n",
    "        else:\n",
    "            V[i,j]=0.0 # no correlation\n"
   ]
  },
  {
   "cell_type": "code",
   "execution_count": null,
   "metadata": {
    "collapsed": false
   },
   "outputs": [],
   "source": [
    "# plot -----------------------------------------------------------------\n",
    "x=np.arange(0., 10.,0.01)\n",
    "\n",
    "fig=figure(figsize=(8,6))\n",
    "\n",
    "plt.yscale('log')\n",
    "plt.plot(x0,y0,'r-',label='prior; a={0} ; b={1}'.format(a0,b0))\n",
    "plt.errorbar(edata,sdata,yerr=uncdata,fmt='o',label='data')\n",
    "#plt.plot(x,Watt(x,1.2,1.0),'b--')\n",
    "\n",
    "plt.legend()\n",
    "plt.show()"
   ]
  },
  {
   "cell_type": "code",
   "execution_count": null,
   "metadata": {
    "collapsed": false
   },
   "outputs": [],
   "source": [
    "# Design (D) and Sensitivity (C) matrices\n",
    "# (here, the design matrix is the identity.)\n",
    "\n",
    "# y-f(x0)\n",
    "diff=np.zeros(nd)\n",
    "for i in range(nd):\n",
    "    diff[i] = sdata[i]-Watt(edata[i],a0,b0)\n",
    "\n",
    "# Sensitivity matrix C\n",
    "\n",
    "C = np.zeros(shape=(nd,2)) # 'nd' data points and '2' model parameters\n",
    "\n",
    "delta = 0.05\n",
    "for i in range(nd):\n",
    "    x=edata[i]\n",
    "    C[i,0] = (Watt(x,a0*(1+delta),b0)-Watt(x,a0,b0))/(delta*a0)\n",
    "    C[i,1] = (Watt(x,a0,b0*(1+delta))-Watt(x,a0,b0))/(delta*b0)\n"
   ]
  },
  {
   "cell_type": "code",
   "execution_count": 9,
   "metadata": {
    "collapsed": false
   },
   "outputs": [
    {
     "ename": "NameError",
     "evalue": "name 'C' is not defined",
     "output_type": "error",
     "traceback": [
      "\u001b[1;31m---------------------------------------------------------------------------\u001b[0m",
      "\u001b[1;31mNameError\u001b[0m                                 Traceback (most recent call last)",
      "\u001b[1;32m<ipython-input-9-010658f33f0c>\u001b[0m in \u001b[0;36m<module>\u001b[1;34m()\u001b[0m\n\u001b[1;32m----> 1\u001b[1;33m \u001b[0mC\u001b[0m\u001b[1;33m,\u001b[0m \u001b[0mdiff\u001b[0m\u001b[1;33m\u001b[0m\u001b[0m\n\u001b[0m",
      "\u001b[1;31mNameError\u001b[0m: name 'C' is not defined"
     ]
    }
   ],
   "source": [
    "C, diff"
   ]
  },
  {
   "cell_type": "code",
   "execution_count": null,
   "metadata": {
    "collapsed": false
   },
   "outputs": [],
   "source": [
    "# Kalman Filter Equations\n",
    "#\n",
    "# p1 = p0 + P0 C^T ( C P0 C^T + V)^-1 ( y - f(x0) ) # posterior parameter values\n",
    "# P1 = P0 - P0 C^T ( C P0 C^T + V)^-1 C P0          # posterior parameter covariance matrix\n",
    "#\n",
    "\n",
    "Q = np.dot(np.dot(P0,transpose(C)),inv(np.dot(C,np.dot(P0,transpose(C)))+V)) # P0 C^T ( C P0 C^T + V)^-1 \n",
    "\n",
    "p1 = p0 + np.dot(Q,diff)\n",
    "P1 = P0 - np.dot(Q,np.dot(C,P0))\n",
    "\n"
   ]
  },
  {
   "cell_type": "code",
   "execution_count": null,
   "metadata": {
    "collapsed": false
   },
   "outputs": [],
   "source": [
    "p1, P1"
   ]
  },
  {
   "cell_type": "code",
   "execution_count": null,
   "metadata": {
    "collapsed": false
   },
   "outputs": [],
   "source": [
    "# plot posterior\n",
    "\n",
    "x=np.arange(0., 10.,0.01)\n",
    "\n",
    "fig=figure(figsize=(8,6))\n",
    "\n",
    "plt.yscale('log')\n",
    "plt.plot(x,y0,'r-',label='prior; a={0} ; b={1}'.format(a0,b0))\n",
    "plt.errorbar(edata,sdata,yerr=uncdata,fmt='o',label='data')\n",
    "plt.plot(x,Watt(x,1.2,1.0),'b--',label='\"true\" values')\n",
    "plt.plot(x,Watt(x,p1[0],p1[1]),'g-',label='posterior')\n",
    "\n",
    "plt.legend(loc=3)\n",
    "plt.show()"
   ]
  },
  {
   "cell_type": "markdown",
   "metadata": {},
   "source": [
    "<a id=\"ENDFFormatting\"></a>"
   ]
  },
  {
   "cell_type": "markdown",
   "metadata": {},
   "source": [
    "<a id=\"Processing\"></a>"
   ]
  },
  {
   "cell_type": "markdown",
   "metadata": {},
   "source": [
    "### Processing for Applications"
   ]
  },
  {
   "cell_type": "markdown",
   "metadata": {},
   "source": [
    "Why do we need processing?\n",
    "\n",
    "The ENDF evaluated nuclear data files have to be processed through a code like NJOY (http://t2.lanl.gov/nis/codes.shtml) before they can be used in a wide range of applications.\n",
    "\n",
    "(no time to cover the processing part here.)"
   ]
  },
  {
   "cell_type": "markdown",
   "metadata": {},
   "source": [
    "<a id=\"Benchmarking\"></a>"
   ]
  },
  {
   "cell_type": "markdown",
   "metadata": {},
   "source": [
    "### Benchmarking and Feedback from Integral Data"
   ]
  },
  {
   "cell_type": "raw",
   "metadata": {},
   "source": [
    "One can propagate the evaluated uncertainties for the PFNS by sampling its covariance matrix."
   ]
  },
  {
   "cell_type": "markdown",
   "metadata": {},
   "source": [
    "Talou et al., \"Uncertainty Quantification of Prompt Fission Neutron Spectrum for n(0.5 MeV)+Pu-239,\" <a href=\"http://www.ans.org/pubs/journals/nse/a_10914\">Nucl. Sci. Eng. 166, 254 (2010)</a>"
   ]
  },
  {
   "cell_type": "code",
   "execution_count": null,
   "metadata": {
    "collapsed": false
   },
   "outputs": [],
   "source": [
    "FileLink(DATADIR+\"pfns.covmat.dat\")"
   ]
  },
  {
   "cell_type": "code",
   "execution_count": null,
   "metadata": {
    "collapsed": false
   },
   "outputs": [],
   "source": [
    "# read PFNS covariance matrix from earlier 2010 study\n",
    "\n",
    "f = open(DATADIR+\"pfns.covmat.dat\")\n",
    "ne = int(f.readline()) # number of energy points\n",
    "energies = np.empty(ne)\n",
    "spectrum = np.empty(ne)\n",
    "for i in range(ne):\n",
    "    (energies[i],spectrum[i]) = f.readline().split()\n",
    "\n",
    "scaling = 1.0\n",
    "\n",
    "covmat = np.zeros([ne,ne])\n",
    "for i in range(ne):\n",
    "    if (i>0):\n",
    "        f.readline() # skip one line\n",
    "    for j in range(ne):\n",
    "        covmat[i][j] = float(f.readline())*scaling**2\n",
    "\n",
    "cormat = np.zeros([ne,ne])\n",
    "for i in range(ne):\n",
    "    for j in range(ne):\n",
    "        cormat[i][j] = covmat[i][j]/sqrt(covmat[i][i]*covmat[j][j])"
   ]
  },
  {
   "cell_type": "code",
   "execution_count": null,
   "metadata": {
    "collapsed": false
   },
   "outputs": [],
   "source": [
    "# plot the covariance and correlation matrices\n",
    "\n",
    "import matplotlib.gridspec as gridspec\n",
    "\n",
    "plt.figure(figsize=(15,15))\n",
    "\n",
    "gs = gridspec.GridSpec(2,2)\n",
    "\n",
    "ax1 = plt.subplot(gs[0,0],aspect=\"equal\")\n",
    "ax2 = plt.subplot(gs[0,1],aspect=\"equal\")\n",
    "\n",
    "# correlation matrix\n",
    "ax1.set_xscale('log')\n",
    "ax1.set_xlim([0.001,20])\n",
    "ax1.set_xlabel('Neutron Energy (MeV)')\n",
    "\n",
    "ax1.set_yscale('log')\n",
    "ax1.set_ylim([0.001,20])\n",
    "ax1.set_ylabel('Neutron Energy (MeV)')\n",
    "\n",
    "ax1.pcolormesh(energies,energies,cormat,cmap=\"afmhot\")\n",
    "ax1.set_title('Correlation Matrix')\n",
    "\n",
    "# covariance matrix\n",
    "ax2.set_xscale('log')\n",
    "ax2.set_xlim([0.001,20])\n",
    "ax1.set_xlabel('Neutron Energy (MeV)')\n",
    "\n",
    "ax2.set_yscale('log')\n",
    "ax2.set_ylim([0.001,20])\n",
    "ax1.set_ylabel('Neutron Energy (MeV)')\n",
    "\n",
    "ax2.pcolormesh(energies,energies,covmat,cmap=\"afmhot\")\n",
    "ax2.set_title('Covariance Matrix')\n",
    "\n",
    "plt.show()"
   ]
  },
  {
   "cell_type": "code",
   "execution_count": null,
   "metadata": {
    "collapsed": false
   },
   "outputs": [],
   "source": [
    "# [1] Diagonalize the PFNS covariance matrix\n",
    "# [2] Create random Gaussian samples around sqrt(eigenvalues)\n",
    "# [3] Create samples of PFNS\n",
    "\n",
    "s = linalg.eig(covmat) # [1] diagonalize here\n",
    "eigenvalues  = s[0]\n",
    "eigenvectors = s[1]\n",
    "\n",
    "# print ne, eigenvalues.size (should be equal)\n",
    "ne = eigenvalues.size\n",
    "\n",
    "# [2] sample eigenvalue distributions using Gaussian distributions with standard deviations of sqrt(eigenvalues)\n",
    "ns=1000\n",
    "\n",
    "# [3] sample PFNS distributions\n",
    "samples = np.empty([ns,ne])\n",
    "eps = np.empty([ne])\n",
    "for i in range(ns): # number of desired samples\n",
    "    for j in range(ne):\n",
    "        eps[j] = np.random.normal(0.0, sqrt(abs(eigenvalues[j])))\n",
    "#        print j, eps[j]\n",
    "    for j in range(ne): # corresponds to number of points on outgoing energy grid\n",
    "        samples[i][j]=spectrum[j]+sum(eigenvectors[j]*eps)\n"
   ]
  },
  {
   "cell_type": "code",
   "execution_count": null,
   "metadata": {
    "collapsed": false
   },
   "outputs": [],
   "source": [
    "plt.figure(figsize=(10,8))\n",
    "\n",
    "for i in range(ns):\n",
    "    plt.plot(energies,samples[i],'c-',linewidth=0.25)\n",
    "\n",
    "plt.plot(energies, spectrum, 'r-',linewidth=3.0)\n",
    "\n",
    "plt.title('Sampled Prompt Fission Neutron Spectra')\n",
    "plt.xlabel(\"Kinetic Neutron Energy (MeV)\")\n",
    "plt.ylabel(\"Spectrum (1/MeV)\")\n",
    "plt.axis([0,10,0,0.5])\n",
    "plt.show()"
   ]
  },
  {
   "cell_type": "code",
   "execution_count": null,
   "metadata": {
    "collapsed": false
   },
   "outputs": [],
   "source": [
    "# plot histogram of mean energies from sampled spectra\n",
    "\n",
    "from scipy.stats import norm\n",
    "import matplotlib.mlab as mlab\n",
    "\n",
    "# energy steps on the outgoing energy grid\n",
    "deltaE = np.zeros(ne)\n",
    "for i in range(ne-1):\n",
    "    deltaE[i]=energies[i+1]-energies[i]\n",
    "\n",
    "# calculate mean energies\n",
    "meanEnergies = np.zeros(ns)\n",
    "for i in range(ns):\n",
    "    meanEnergies[i] = sum(samples[i]*energies[:]*deltaE[:])\n",
    "\n",
    "# plot\n",
    "plt.figure(figsize=(6,6))\n",
    "\n",
    "plt.ylabel(\"Counts\")\n",
    "plt.xlabel(\"Average Neutron Energy (MeV)\")\n",
    "plt.hist(meanEnergies,50)\n",
    "\n",
    "plt.show()"
   ]
  },
  {
   "cell_type": "markdown",
   "metadata": {},
   "source": [
    "#### The \"Sandwich Rule\""
   ]
  },
  {
   "cell_type": "markdown",
   "metadata": {},
   "source": [
    "To quickly infer the impact of the uncertainty of the Pu-239 PFNS on an integral quantity such as the multiplication factor $k_{eff}$ for the Jezebel critical assembly, one can use the \"sandwich rule\":"
   ]
  },
  {
   "cell_type": "markdown",
   "metadata": {},
   "source": [
    "\\begin{eqnarray}\n",
    "\\sigma_{k_{eff}}=\\mathbf{SCS^T}\n",
    "\\end{eqnarray}"
   ]
  },
  {
   "cell_type": "markdown",
   "metadata": {},
   "source": [
    "where $\\mathbf{S}$ is the sensitivity profile (vector) obtained as $\\partial k_{eff}/\\partial \\chi(E)$, and $\\mathbf{C}$ is the PFNS covariance matrix."
   ]
  },
  {
   "cell_type": "markdown",
   "metadata": {},
   "source": [
    "Databases of sensitivity profiles are being produced to quickly study the impact of an evaluation on integral data."
   ]
  },
  {
   "cell_type": "markdown",
   "metadata": {},
   "source": [
    "<a id=\"FinalNotes\"></a>"
   ]
  },
  {
   "cell_type": "markdown",
   "metadata": {},
   "source": [
    "# <center><font color=\"red\">The End</font></center>"
   ]
  },
  {
   "cell_type": "markdown",
   "metadata": {},
   "source": [
    "### Appendix A: Data Files"
   ]
  },
  {
   "cell_type": "code",
   "execution_count": null,
   "metadata": {
    "collapsed": false
   },
   "outputs": [],
   "source": [
    "FileLinks(DATADIR)"
   ]
  },
  {
   "cell_type": "markdown",
   "metadata": {},
   "source": [
    "### Appendix B: Image Files"
   ]
  },
  {
   "cell_type": "code",
   "execution_count": null,
   "metadata": {
    "collapsed": false
   },
   "outputs": [],
   "source": [
    "FileLinks(IMAGEDIR)"
   ]
  },
  {
   "cell_type": "markdown",
   "metadata": {},
   "source": [
    "### Appendix C: References on Prompt Fission Neutrons"
   ]
  },
  {
   "cell_type": "markdown",
   "metadata": {},
   "source": [
    "<ul>\n",
    "<li>J.Terrell, \"Fission Neutron Spectra and Nuclear Temperatures\", <a href=\"http://journals.aps.org/pr/abstract/10.1103/PhysRev.113.527\">Phys. Rev. <strong>113</strong>, 527 (1959)</a></li>\n",
    "<li>D.G.Madland and J.R.Nix, \"New Calculation of Prompt Fission Neutron Spectra and Average Prompt Neutron Multiplicities,\" <a href=\"http://www.ans.org/pubs/journals/nse/a_20086\">Nucl. Sci. Eng. <strong>81</strong>, 213 (1982)</a></li>\n",
    "<li>B.E.Watt, \"Energy Spectrum of Neutrons from Thermal Fission of U-235,\" <a href=\"http://journals.aps.org/pr/abstract/10.1103/PhysRev.87.1037\">Phys. Rev. <strong>87</strong>, 1037 (1952)</a></li>\n",
    "</ul>"
   ]
  },
  {
   "cell_type": "markdown",
   "metadata": {},
   "source": [
    "### Appendix D: References on Bayesian Statistics"
   ]
  },
  {
   "cell_type": "markdown",
   "metadata": {},
   "source": [
    "<ul>\n",
    "<li>F.H.Froehner, <a href=\"http://www.fritz-froehner.de/logic01.htm\">\"The Logic of Scientific Data Evaluation\"</a></li>\n",
    "<li>R.E.Kalman, <a href=PAPERDIR+\"Kalman1960.pdf\">\"A New Approach to Linear Filtering and Prediction Problems\"</a></li>\n",
    "</ul>"
   ]
  },
  {
   "cell_type": "markdown",
   "metadata": {},
   "source": [
    "### Appendix E: Python Tools"
   ]
  },
  {
   "cell_type": "markdown",
   "metadata": {},
   "source": [
    "<ul>\n",
    "<li><a href=\"http://www.ipython.org\">IPython</a>: interactive computing with Python</li>\n",
    "<li><a href=\"http://www.numpy.org\">NumPy</a>: numerical tools</li>\n",
    "<li><a href=\"http://www.scipy.org\">SciPy</a>: scientific tools</li>\n",
    "<li><a href=\"http://www.matplotlib.org\">Matplotlib</a>: plotting library</li>\n",
    "</ul>"
   ]
  },
  {
   "cell_type": "code",
   "execution_count": null,
   "metadata": {
    "collapsed": false
   },
   "outputs": [],
   "source": [
    "FileLinks(PAPERDIR)"
   ]
  },
  {
   "cell_type": "code",
   "execution_count": null,
   "metadata": {
    "collapsed": false
   },
   "outputs": [],
   "source": []
  },
  {
   "cell_type": "code",
   "execution_count": null,
   "metadata": {
    "collapsed": false
   },
   "outputs": [],
   "source": []
  },
  {
   "cell_type": "code",
   "execution_count": null,
   "metadata": {
    "collapsed": false
   },
   "outputs": [],
   "source": []
  }
 ],
 "metadata": {
  "kernelspec": {
   "display_name": "Python 2",
   "language": "python",
   "name": "python2"
  },
  "language_info": {
   "codemirror_mode": {
    "name": "ipython",
    "version": 2
   },
   "file_extension": ".py",
   "mimetype": "text/x-python",
   "name": "python",
   "nbconvert_exporter": "python",
   "pygments_lexer": "ipython2",
   "version": "2.7.11"
  }
 },
 "nbformat": 4,
 "nbformat_minor": 0
}
